{
 "cells": [
  {
   "cell_type": "code",
   "execution_count": null,
   "id": "0c86030b",
   "metadata": {},
   "outputs": [],
   "source": [
    "import cv2 \n",
    "import numpy as np\n",
    "import matplotlib.pyplot as plt\n"
   ]
  },
  {
   "cell_type": "code",
   "execution_count": null,
   "id": "2ceddae8",
   "metadata": {},
   "outputs": [],
   "source": [
    "# read the image in grayscale form\n",
    "img_gray = cv2.imread(\"data/alexey's_data/IMG_20250416_121855.jpg\", 0)\n",
    "\n",
    "# denoise the image\n",
    "denoise_img = cv2.GaussianBlur(img_gray, (5,5), 0)\n",
    "\n",
    "# apply histogram equalization\n",
    "clahe = cv2.createCLAHE(clipLimit=2.0, tileGridSize=(8,8))\n",
    "cl_img = clahe.apply(denoise_img)\n",
    "\n",
    "# plot the histogram\n",
    "plt.hist(cl_img.flat, bins=100, range=(0, 255))\n"
   ]
  },
  {
   "cell_type": "code",
   "execution_count": null,
   "id": "a8d4592a",
   "metadata": {},
   "outputs": [],
   "source": [
    "# plt.hist(img_gray.flat, bins=100, range=(0, 255))"
   ]
  },
  {
   "cell_type": "code",
   "execution_count": null,
   "id": "b4adc21b",
   "metadata": {},
   "outputs": [],
   "source": [
    "# image thresholding\n",
    "ret, thresh_1 = cv2.threshold(cl_img, 150, 255, cv2.THRESH_BINARY)\n",
    "ret, thresh_2 = cv2.threshold(cl_img, 210, 255, cv2.THRESH_BINARY)\n",
    "\n",
    "plt.imshow(thresh_1, cmap=\"gray\")"
   ]
  },
  {
   "cell_type": "code",
   "execution_count": null,
   "id": "4e8b6b4b",
   "metadata": {},
   "outputs": [],
   "source": [
    "plt.imshow(thresh_2, cmap=\"gray\")"
   ]
  },
  {
   "cell_type": "code",
   "execution_count": null,
   "id": "bbbf54d8",
   "metadata": {},
   "outputs": [],
   "source": [
    "# try to denoise the thresholded image\n",
    "kernel = np.ones((3,3), np.uint8)\n",
    "eroded_img = cv2.erode(thresh_2, kernel, iterations=1)\n",
    "plt.imshow(eroded_img, cmap=\"gray\")"
   ]
  },
  {
   "cell_type": "code",
   "execution_count": null,
   "id": "21b3e029",
   "metadata": {},
   "outputs": [],
   "source": [
    "dilated_img = cv2.dilate(eroded_img, kernel, iterations=5)\n",
    "plt.imshow(dilated_img, cmap=\"gray\")"
   ]
  },
  {
   "cell_type": "code",
   "execution_count": null,
   "id": "282467c9",
   "metadata": {},
   "outputs": [],
   "source": []
  },
  {
   "cell_type": "code",
   "execution_count": null,
   "id": "0582a81d",
   "metadata": {},
   "outputs": [],
   "source": []
  },
  {
   "cell_type": "code",
   "execution_count": null,
   "id": "219ea3ee",
   "metadata": {},
   "outputs": [],
   "source": [
    "# # let's try the otsu thresholding\n",
    "# ret2, thresh_3 = cv2.threshold(cl_img, 0, 255, cv2.THRESH_BINARY+cv2.THRESH_OTSU)\n",
    "# plt.imshow(thresh_3, cmap=\"gray\")"
   ]
  },
  {
   "cell_type": "code",
   "execution_count": null,
   "id": "a58f17ff",
   "metadata": {},
   "outputs": [],
   "source": [
    "# # Load your thresholded image\n",
    "# img_gray = cv2.imread('thresholded_image.png', cv2.IMREAD_GRAYSCALE)\n",
    "\n",
    "# 1. Initial Cleaning with Morphology\n",
    "kernel = np.ones((5,5), np.uint8)\n",
    "closed = cv2.morphologyEx(thresh_2, cv2.MORPH_CLOSE, kernel, iterations=2)\n",
    "\n",
    "# 2. ROI Isolation\n",
    "num_labels, labels, stats, centroids = cv2.connectedComponentsWithStats(closed)\n",
    "largest_label = 1 + np.argmax(stats[1:, cv2.CC_STAT_AREA]) \n",
    "roi_mask = (labels == largest_label).astype(np.uint8) * 255\n",
    "\n",
    "# 3. Selective Morphological Processing\n",
    "# Dilate ONLY within the ROI\n",
    "roi_dilated = cv2.dilate(roi_mask, kernel, iterations=3)\n",
    "\n",
    "# Create inverse mask for non-ROI areas\n",
    "non_roi_mask = 255 - roi_mask\n",
    "\n",
    "# CORRECTED: Use bitwise AND instead of logical AND\n",
    "non_roi_cleaned = cv2.erode(cv2.bitwise_and(img_gray, non_roi_mask), \n",
    "                   np.ones((7,7), np.uint8), \n",
    "                   iterations=3)\n",
    "\n",
    "# CORRECTED: Use bitwise OR instead of logical OR\n",
    "final_result = cv2.bitwise_or(roi_dilated, non_roi_cleaned)\n",
    "\n",
    "# 5. Post-processing\n",
    "final_result = cv2.morphologyEx(final_result, cv2.MORPH_CLOSE, np.ones((3,3), np.uint8))\n",
    "\n",
    "# 6. Save/Display\n",
    "cv2.imwrite('clean_line_output.png', final_result)\n",
    "plt.imshow(final_result, cmap=\"gray\")"
   ]
  },
  {
   "cell_type": "markdown",
   "id": "360ae90f",
   "metadata": {},
   "source": []
  },
  {
   "cell_type": "code",
   "execution_count": null,
   "id": "838fc4e0",
   "metadata": {},
   "outputs": [],
   "source": []
  },
  {
   "cell_type": "code",
   "execution_count": null,
   "id": "dd56c4d7",
   "metadata": {},
   "outputs": [],
   "source": []
  },
  {
   "cell_type": "code",
   "execution_count": null,
   "id": "86474671",
   "metadata": {},
   "outputs": [],
   "source": []
  },
  {
   "cell_type": "code",
   "execution_count": null,
   "id": "ee0c4154",
   "metadata": {},
   "outputs": [],
   "source": []
  },
  {
   "cell_type": "code",
   "execution_count": null,
   "id": "a00eb27b",
   "metadata": {},
   "outputs": [],
   "source": [
    "\n",
    "\n",
    "\n"
   ]
  },
  {
   "cell_type": "code",
   "execution_count": null,
   "id": "17c6191b",
   "metadata": {},
   "outputs": [],
   "source": []
  }
 ],
 "metadata": {
  "kernelspec": {
   "display_name": ".venv",
   "language": "python",
   "name": "python3"
  },
  "language_info": {
   "codemirror_mode": {
    "name": "ipython",
    "version": 3
   },
   "file_extension": ".py",
   "mimetype": "text/x-python",
   "name": "python",
   "nbconvert_exporter": "python",
   "pygments_lexer": "ipython3",
   "version": "3.11.9"
  }
 },
 "nbformat": 4,
 "nbformat_minor": 5
}
